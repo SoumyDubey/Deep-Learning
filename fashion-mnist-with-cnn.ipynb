{
 "cells": [
  {
   "cell_type": "code",
   "execution_count": 1,
   "metadata": {
    "_cell_guid": "b1076dfc-b9ad-4769-8c92-a6c4dae69d19",
    "_uuid": "8f2839f25d086af736a60e9eeb907d3b93b6e0e5",
    "execution": {
     "iopub.execute_input": "2021-03-23T04:10:46.161559Z",
     "iopub.status.busy": "2021-03-23T04:10:46.160447Z",
     "iopub.status.idle": "2021-03-23T04:10:46.163644Z",
     "shell.execute_reply": "2021-03-23T04:10:46.163131Z"
    },
    "papermill": {
     "duration": 0.029378,
     "end_time": "2021-03-23T04:10:46.163810",
     "exception": false,
     "start_time": "2021-03-23T04:10:46.134432",
     "status": "completed"
    },
    "tags": []
   },
   "outputs": [],
   "source": [
    "# This Python 3 environment comes with many helpful analytics libraries installed\n",
    "# It is defined by the kaggle/python Docker image: https://github.com/kaggle/docker-python\n",
    "# For example, here's several helpful packages to load\n",
    "\n",
    "import numpy as np # linear algebra\n",
    "import pandas as pd # data processing, CSV file I/O (e.g. pd.read_csv)\n",
    "\n",
    "# Input data files are available in the read-only \"../input/\" directory\n",
    "# For example, running this (by clicking run or pressing Shift+Enter) will list all files under the input directory\n",
    "\n",
    "import os\n",
    "for dirname, _, filenames in os.walk('/kaggle/input'):\n",
    "    for filename in filenames:\n",
    "        print(os.path.join(dirname, filename))\n",
    "\n",
    "# You can write up to 20GB to the current directory (/kaggle/working/) that gets preserved as output when you create a version using \"Save & Run All\" \n",
    "# You can also write temporary files to /kaggle/temp/, but they won't be saved outside of the current session"
   ]
  },
  {
   "cell_type": "code",
   "execution_count": 2,
   "metadata": {
    "execution": {
     "iopub.execute_input": "2021-03-23T04:10:46.207011Z",
     "iopub.status.busy": "2021-03-23T04:10:46.206464Z",
     "iopub.status.idle": "2021-03-23T04:10:57.308093Z",
     "shell.execute_reply": "2021-03-23T04:10:57.307567Z"
    },
    "papermill": {
     "duration": 11.124627,
     "end_time": "2021-03-23T04:10:57.308223",
     "exception": false,
     "start_time": "2021-03-23T04:10:46.183596",
     "status": "completed"
    },
    "tags": []
   },
   "outputs": [
    {
     "name": "stdout",
     "output_type": "stream",
     "text": [
      "Requirement already satisfied: tensorflow_datasets in /opt/conda/lib/python3.7/site-packages (3.0.0)\r\n",
      "Collecting tensorflow_datasets\r\n",
      "  Downloading tensorflow_datasets-4.2.0-py3-none-any.whl (3.7 MB)\r\n",
      "\u001b[K     |████████████████████████████████| 3.7 MB 1.2 MB/s \r\n",
      "\u001b[?25hRequirement already satisfied: numpy in /opt/conda/lib/python3.7/site-packages (from tensorflow_datasets) (1.19.5)\r\n",
      "Requirement already satisfied: requests>=2.19.0 in /opt/conda/lib/python3.7/site-packages (from tensorflow_datasets) (2.25.1)\r\n",
      "Requirement already satisfied: protobuf>=3.12.2 in /opt/conda/lib/python3.7/site-packages (from tensorflow_datasets) (3.14.0)\r\n",
      "Requirement already satisfied: absl-py in /opt/conda/lib/python3.7/site-packages (from tensorflow_datasets) (0.10.0)\r\n",
      "Requirement already satisfied: termcolor in /opt/conda/lib/python3.7/site-packages (from tensorflow_datasets) (1.1.0)\r\n",
      "Requirement already satisfied: dill in /opt/conda/lib/python3.7/site-packages (from tensorflow_datasets) (0.3.3)\r\n",
      "Requirement already satisfied: typing-extensions in /opt/conda/lib/python3.7/site-packages (from tensorflow_datasets) (3.7.4.3)\r\n",
      "Requirement already satisfied: tqdm in /opt/conda/lib/python3.7/site-packages (from tensorflow_datasets) (4.55.1)\r\n",
      "Collecting importlib-resources\r\n",
      "  Downloading importlib_resources-5.1.2-py3-none-any.whl (25 kB)\r\n",
      "Requirement already satisfied: six in /opt/conda/lib/python3.7/site-packages (from tensorflow_datasets) (1.15.0)\r\n",
      "Requirement already satisfied: tensorflow-metadata in /opt/conda/lib/python3.7/site-packages (from tensorflow_datasets) (0.27.0)\r\n",
      "Requirement already satisfied: future in /opt/conda/lib/python3.7/site-packages (from tensorflow_datasets) (0.18.2)\r\n",
      "Requirement already satisfied: attrs>=18.1.0 in /opt/conda/lib/python3.7/site-packages (from tensorflow_datasets) (20.3.0)\r\n",
      "Requirement already satisfied: promise in /opt/conda/lib/python3.7/site-packages (from tensorflow_datasets) (2.3)\r\n",
      "Requirement already satisfied: idna<3,>=2.5 in /opt/conda/lib/python3.7/site-packages (from requests>=2.19.0->tensorflow_datasets) (2.10)\r\n",
      "Requirement already satisfied: certifi>=2017.4.17 in /opt/conda/lib/python3.7/site-packages (from requests>=2.19.0->tensorflow_datasets) (2020.12.5)\r\n",
      "Requirement already satisfied: urllib3<1.27,>=1.21.1 in /opt/conda/lib/python3.7/site-packages (from requests>=2.19.0->tensorflow_datasets) (1.26.2)\r\n",
      "Requirement already satisfied: chardet<5,>=3.0.2 in /opt/conda/lib/python3.7/site-packages (from requests>=2.19.0->tensorflow_datasets) (3.0.4)\r\n",
      "Requirement already satisfied: zipp>=0.4 in /opt/conda/lib/python3.7/site-packages (from importlib-resources->tensorflow_datasets) (3.4.0)\r\n",
      "Requirement already satisfied: googleapis-common-protos<2,>=1.52.0 in /opt/conda/lib/python3.7/site-packages (from tensorflow-metadata->tensorflow_datasets) (1.52.0)\r\n",
      "Installing collected packages: importlib-resources, tensorflow-datasets\r\n",
      "  Attempting uninstall: tensorflow-datasets\r\n",
      "    Found existing installation: tensorflow-datasets 3.0.0\r\n",
      "    Uninstalling tensorflow-datasets-3.0.0:\r\n",
      "      Successfully uninstalled tensorflow-datasets-3.0.0\r\n",
      "\u001b[31mERROR: pip's dependency resolver does not currently take into account all the packages that are installed. This behaviour is the source of the following dependency conflicts.\r\n",
      "tensorflow-cloud 0.1.13 requires tensorflow-datasets<3.1.0, but you have tensorflow-datasets 4.2.0 which is incompatible.\u001b[0m\r\n",
      "Successfully installed importlib-resources-5.1.2 tensorflow-datasets-4.2.0\r\n"
     ]
    }
   ],
   "source": [
    "!pip install -U tensorflow_datasets"
   ]
  },
  {
   "cell_type": "code",
   "execution_count": 3,
   "metadata": {
    "execution": {
     "iopub.execute_input": "2021-03-23T04:10:57.369151Z",
     "iopub.status.busy": "2021-03-23T04:10:57.368391Z",
     "iopub.status.idle": "2021-03-23T04:11:02.661967Z",
     "shell.execute_reply": "2021-03-23T04:11:02.661229Z"
    },
    "papermill": {
     "duration": 5.32499,
     "end_time": "2021-03-23T04:11:02.662141",
     "exception": false,
     "start_time": "2021-03-23T04:10:57.337151",
     "status": "completed"
    },
    "tags": []
   },
   "outputs": [],
   "source": [
    "import tensorflow as tf"
   ]
  },
  {
   "cell_type": "code",
   "execution_count": 4,
   "metadata": {
    "execution": {
     "iopub.execute_input": "2021-03-23T04:11:02.849121Z",
     "iopub.status.busy": "2021-03-23T04:11:02.781779Z",
     "iopub.status.idle": "2021-03-23T04:11:03.204654Z",
     "shell.execute_reply": "2021-03-23T04:11:03.205241Z"
    },
    "papermill": {
     "duration": 0.491788,
     "end_time": "2021-03-23T04:11:03.205447",
     "exception": false,
     "start_time": "2021-03-23T04:11:02.713659",
     "status": "completed"
    },
    "tags": []
   },
   "outputs": [],
   "source": [
    "# Import Tensorflow Datasets\n",
    "import tensorflow_datasets as tfds\n",
    "tfds.disable_progress_bar()\n",
    "\n",
    "# Hepler Libraries\n",
    "import math\n",
    "import numpy as np\n",
    "import matplotlib.pyplot as plt"
   ]
  },
  {
   "cell_type": "code",
   "execution_count": 5,
   "metadata": {
    "execution": {
     "iopub.execute_input": "2021-03-23T04:11:03.297335Z",
     "iopub.status.busy": "2021-03-23T04:11:03.296526Z",
     "iopub.status.idle": "2021-03-23T04:11:03.298571Z",
     "shell.execute_reply": "2021-03-23T04:11:03.298003Z"
    },
    "papermill": {
     "duration": 0.050801,
     "end_time": "2021-03-23T04:11:03.298704",
     "exception": false,
     "start_time": "2021-03-23T04:11:03.247903",
     "status": "completed"
    },
    "tags": []
   },
   "outputs": [],
   "source": [
    "import logging\n",
    "logger = tf.get_logger()\n",
    "logger.setLevel(logging.ERROR)"
   ]
  },
  {
   "cell_type": "markdown",
   "metadata": {
    "papermill": {
     "duration": 0.032942,
     "end_time": "2021-03-23T04:11:03.385005",
     "exception": false,
     "start_time": "2021-03-23T04:11:03.352063",
     "status": "completed"
    },
    "tags": []
   },
   "source": [
    "# Import Fashion MNIST datsets"
   ]
  },
  {
   "cell_type": "code",
   "execution_count": 6,
   "metadata": {
    "execution": {
     "iopub.execute_input": "2021-03-23T04:11:03.447922Z",
     "iopub.status.busy": "2021-03-23T04:11:03.447260Z",
     "iopub.status.idle": "2021-03-23T04:11:32.443989Z",
     "shell.execute_reply": "2021-03-23T04:11:32.443513Z"
    },
    "papermill": {
     "duration": 29.031444,
     "end_time": "2021-03-23T04:11:32.444121",
     "exception": false,
     "start_time": "2021-03-23T04:11:03.412677",
     "status": "completed"
    },
    "tags": []
   },
   "outputs": [
    {
     "name": "stdout",
     "output_type": "stream",
     "text": [
      "\u001b[1mDownloading and preparing dataset 29.45 MiB (download: 29.45 MiB, generated: 36.42 MiB, total: 65.87 MiB) to /root/tensorflow_datasets/fashion_mnist/3.0.1...\u001b[0m\n",
      "\u001b[1mDataset fashion_mnist downloaded and prepared to /root/tensorflow_datasets/fashion_mnist/3.0.1. Subsequent calls will reuse this data.\u001b[0m\n"
     ]
    }
   ],
   "source": [
    "dataset, metdata = tfds.load('fashion_mnist', as_supervised = True, with_info = True)\n",
    "train_dataset, test_dataset = dataset['train'], dataset['test']"
   ]
  },
  {
   "cell_type": "code",
   "execution_count": 7,
   "metadata": {
    "execution": {
     "iopub.execute_input": "2021-03-23T04:11:32.505626Z",
     "iopub.status.busy": "2021-03-23T04:11:32.504997Z",
     "iopub.status.idle": "2021-03-23T04:11:32.508236Z",
     "shell.execute_reply": "2021-03-23T04:11:32.508605Z"
    },
    "papermill": {
     "duration": 0.035661,
     "end_time": "2021-03-23T04:11:32.508730",
     "exception": false,
     "start_time": "2021-03-23T04:11:32.473069",
     "status": "completed"
    },
    "tags": []
   },
   "outputs": [
    {
     "name": "stdout",
     "output_type": "stream",
     "text": [
      "Class Names: ['T-shirt/top', 'Trouser', 'Pullover', 'Dress', 'Coat', 'Sandal', 'Shirt', 'Sneaker', 'Bag', 'Ankle boot']\n"
     ]
    }
   ],
   "source": [
    "class_name = metdata.features['label'].names\n",
    "print('Class Names: {}'.format(class_name))"
   ]
  },
  {
   "cell_type": "markdown",
   "metadata": {
    "papermill": {
     "duration": 0.028322,
     "end_time": "2021-03-23T04:11:32.565629",
     "exception": false,
     "start_time": "2021-03-23T04:11:32.537307",
     "status": "completed"
    },
    "tags": []
   },
   "source": [
    "**Explore the data**"
   ]
  },
  {
   "cell_type": "code",
   "execution_count": 8,
   "metadata": {
    "execution": {
     "iopub.execute_input": "2021-03-23T04:11:32.627383Z",
     "iopub.status.busy": "2021-03-23T04:11:32.626669Z",
     "iopub.status.idle": "2021-03-23T04:11:32.630465Z",
     "shell.execute_reply": "2021-03-23T04:11:32.630037Z"
    },
    "papermill": {
     "duration": 0.036223,
     "end_time": "2021-03-23T04:11:32.630564",
     "exception": false,
     "start_time": "2021-03-23T04:11:32.594341",
     "status": "completed"
    },
    "tags": []
   },
   "outputs": [
    {
     "name": "stdout",
     "output_type": "stream",
     "text": [
      "Number of training examples: 60000\n",
      "Number of test examples: 10000\n"
     ]
    }
   ],
   "source": [
    "num_train_examples = metdata.splits['train'].num_examples\n",
    "num_test_examples = metdata.splits['test'].num_examples\n",
    "\n",
    "print('Number of training examples: {}'.format(num_train_examples))\n",
    "print('Number of test examples: {}'.format(num_test_examples))"
   ]
  },
  {
   "cell_type": "markdown",
   "metadata": {
    "papermill": {
     "duration": 0.029052,
     "end_time": "2021-03-23T04:11:32.688543",
     "exception": false,
     "start_time": "2021-03-23T04:11:32.659491",
     "status": "completed"
    },
    "tags": []
   },
   "source": [
    "**Preprocess the data**"
   ]
  },
  {
   "cell_type": "code",
   "execution_count": 9,
   "metadata": {
    "execution": {
     "iopub.execute_input": "2021-03-23T04:11:32.751167Z",
     "iopub.status.busy": "2021-03-23T04:11:32.750450Z",
     "iopub.status.idle": "2021-03-23T04:11:32.753292Z",
     "shell.execute_reply": "2021-03-23T04:11:32.752775Z"
    },
    "papermill": {
     "duration": 0.035518,
     "end_time": "2021-03-23T04:11:32.753392",
     "exception": false,
     "start_time": "2021-03-23T04:11:32.717874",
     "status": "completed"
    },
    "tags": []
   },
   "outputs": [],
   "source": [
    "def normalize(images, labels):\n",
    "    images = tf.cast(images, tf.float32)\n",
    "    images /= 255\n",
    "    return images, labels"
   ]
  },
  {
   "cell_type": "code",
   "execution_count": 10,
   "metadata": {
    "execution": {
     "iopub.execute_input": "2021-03-23T04:11:32.816020Z",
     "iopub.status.busy": "2021-03-23T04:11:32.815238Z",
     "iopub.status.idle": "2021-03-23T04:11:32.867003Z",
     "shell.execute_reply": "2021-03-23T04:11:32.866571Z"
    },
    "papermill": {
     "duration": 0.084918,
     "end_time": "2021-03-23T04:11:32.867106",
     "exception": false,
     "start_time": "2021-03-23T04:11:32.782188",
     "status": "completed"
    },
    "tags": []
   },
   "outputs": [],
   "source": [
    "# Map the function applies the normalize function to each elemets in the train and test datasets\n",
    "\n",
    "train_dataset = train_dataset.map(normalize)\n",
    "test_dataset = test_dataset.map(normalize)"
   ]
  },
  {
   "cell_type": "code",
   "execution_count": 11,
   "metadata": {
    "execution": {
     "iopub.execute_input": "2021-03-23T04:11:32.930223Z",
     "iopub.status.busy": "2021-03-23T04:11:32.929546Z",
     "iopub.status.idle": "2021-03-23T04:11:32.932963Z",
     "shell.execute_reply": "2021-03-23T04:11:32.932490Z"
    },
    "papermill": {
     "duration": 0.036118,
     "end_time": "2021-03-23T04:11:32.933071",
     "exception": false,
     "start_time": "2021-03-23T04:11:32.896953",
     "status": "completed"
    },
    "tags": []
   },
   "outputs": [],
   "source": [
    "# First time you use the datasets, the images will be loaded from disk Caching will keep them in memory, making training faster\n",
    "\n",
    "train_dataset = train_dataset.cache()\n",
    "test_dataset = test_dataset.cache()"
   ]
  },
  {
   "cell_type": "markdown",
   "metadata": {
    "papermill": {
     "duration": 0.028991,
     "end_time": "2021-03-23T04:11:32.991227",
     "exception": false,
     "start_time": "2021-03-23T04:11:32.962236",
     "status": "completed"
    },
    "tags": []
   },
   "source": [
    "**Explore the processed data**"
   ]
  },
  {
   "cell_type": "code",
   "execution_count": 12,
   "metadata": {
    "execution": {
     "iopub.execute_input": "2021-03-23T04:11:33.055752Z",
     "iopub.status.busy": "2021-03-23T04:11:33.054906Z",
     "iopub.status.idle": "2021-03-23T04:11:33.683998Z",
     "shell.execute_reply": "2021-03-23T04:11:33.685238Z"
    },
    "papermill": {
     "duration": 0.664174,
     "end_time": "2021-03-23T04:11:33.685605",
     "exception": false,
     "start_time": "2021-03-23T04:11:33.021431",
     "status": "completed"
    },
    "tags": []
   },
   "outputs": [
    {
     "data": {
      "image/png": "[encoded data removed]",
      "text/plain": [
       "<Figure size 432x288 with 2 Axes>"
      ]
     },
     "metadata": {
      "needs_background": "light"
     },
     "output_type": "display_data"
    }
   ],
   "source": [
    "# Take a single image, and remove the color dimension by reshaping \n",
    "for image, label in test_dataset.take(1):\n",
    "    break\n",
    "image - image.numpy().reshape((28,28))\n",
    "\n",
    "# Plot the image - voile a piece of fashion clothing\n",
    "plt.figure()\n",
    "plt.imshow(image, cmap= plt.cm.binary)\n",
    "plt.colorbar()\n",
    "plt.grid(False)\n",
    "plt.show()"
   ]
  },
  {
   "cell_type": "code",
   "execution_count": 13,
   "metadata": {
    "execution": {
     "iopub.execute_input": "2021-03-23T04:11:33.798626Z",
     "iopub.status.busy": "2021-03-23T04:11:33.797871Z",
     "iopub.status.idle": "2021-03-23T04:11:35.136735Z",
     "shell.execute_reply": "2021-03-23T04:11:35.135956Z"
    },
    "papermill": {
     "duration": 1.394202,
     "end_time": "2021-03-23T04:11:35.136929",
     "exception": false,
     "start_time": "2021-03-23T04:11:33.742727",
     "status": "completed"
    },
    "tags": []
   },
   "outputs": [
    {
     "data": {
      "image/png": "[encoded data removed]",
      "text/plain": [
       "<Figure size 720x720 with 25 Axes>"
      ]
     },
     "metadata": {},
     "output_type": "display_data"
    }
   ],
   "source": [
    "plt.figure(figsize = (10,10))\n",
    "for i, (image, label) in enumerate(test_dataset.take(25)):\n",
    "    image = image.numpy().reshape((28,28))\n",
    "    plt.subplot(5,5,i+1)\n",
    "    plt.xticks([])\n",
    "    plt.yticks([])\n",
    "    plt.grid(False)\n",
    "    plt.imshow(image, cmap = plt.cm.binary)\n",
    "    plt.xlabel(class_name[label])\n",
    "plt.show()"
   ]
  },
  {
   "cell_type": "markdown",
   "metadata": {
    "papermill": {
     "duration": 0.068835,
     "end_time": "2021-03-23T04:11:35.272657",
     "exception": false,
     "start_time": "2021-03-23T04:11:35.203822",
     "status": "completed"
    },
    "tags": []
   },
   "source": [
    "# Bulid The Model"
   ]
  },
  {
   "cell_type": "markdown",
   "metadata": {
    "papermill": {
     "duration": 0.057229,
     "end_time": "2021-03-23T04:11:35.390494",
     "exception": false,
     "start_time": "2021-03-23T04:11:35.333265",
     "status": "completed"
    },
    "tags": []
   },
   "source": [
    "**Layers Setup** "
   ]
  },
  {
   "cell_type": "code",
   "execution_count": 14,
   "metadata": {
    "execution": {
     "iopub.execute_input": "2021-03-23T04:11:35.512590Z",
     "iopub.status.busy": "2021-03-23T04:11:35.511175Z",
     "iopub.status.idle": "2021-03-23T04:11:35.596967Z",
     "shell.execute_reply": "2021-03-23T04:11:35.598110Z"
    },
    "papermill": {
     "duration": 0.15095,
     "end_time": "2021-03-23T04:11:35.598334",
     "exception": false,
     "start_time": "2021-03-23T04:11:35.447384",
     "status": "completed"
    },
    "tags": []
   },
   "outputs": [],
   "source": [
    "model = tf.keras.Sequential([\n",
    "    tf.keras.layers.Conv2D(32,(3,3), padding = 'same', activation = tf.nn.relu, input_shape = (28,28,1)),\n",
    "    tf.keras.layers.MaxPooling2D((2,2), strides = 2),\n",
    "    tf.keras.layers.Conv2D(64, (3,3), padding = 'same', activation = tf.nn.relu),\n",
    "    tf.keras.layers.MaxPooling2D((2,2), strides = 2),\n",
    "    tf.keras.layers.Flatten(),\n",
    "    tf.keras.layers.Dense(128, activation = tf.nn.relu),\n",
    "    tf.keras.layers.Dense(10,activation = tf.nn.softmax)\n",
    "])"
   ]
  },
  {
   "cell_type": "markdown",
   "metadata": {
    "papermill": {
     "duration": 0.031532,
     "end_time": "2021-03-23T04:11:35.672321",
     "exception": false,
     "start_time": "2021-03-23T04:11:35.640789",
     "status": "completed"
    },
    "tags": []
   },
   "source": [
    "**Complie the model**"
   ]
  },
  {
   "cell_type": "code",
   "execution_count": 15,
   "metadata": {
    "execution": {
     "iopub.execute_input": "2021-03-23T04:11:35.742026Z",
     "iopub.status.busy": "2021-03-23T04:11:35.741249Z",
     "iopub.status.idle": "2021-03-23T04:11:35.754048Z",
     "shell.execute_reply": "2021-03-23T04:11:35.753631Z"
    },
    "papermill": {
     "duration": 0.049492,
     "end_time": "2021-03-23T04:11:35.754156",
     "exception": false,
     "start_time": "2021-03-23T04:11:35.704664",
     "status": "completed"
    },
    "tags": []
   },
   "outputs": [],
   "source": [
    "model.compile(optimizer = 'adam',\n",
    "             loss = tf.keras.losses.SparseCategoricalCrossentropy(),\n",
    "             metrics = ['accuracy'])"
   ]
  },
  {
   "cell_type": "markdown",
   "metadata": {
    "papermill": {
     "duration": 0.031727,
     "end_time": "2021-03-23T04:11:35.817532",
     "exception": false,
     "start_time": "2021-03-23T04:11:35.785805",
     "status": "completed"
    },
    "tags": []
   },
   "source": [
    "**Train the Model**"
   ]
  },
  {
   "cell_type": "code",
   "execution_count": 16,
   "metadata": {
    "execution": {
     "iopub.execute_input": "2021-03-23T04:11:35.885315Z",
     "iopub.status.busy": "2021-03-23T04:11:35.884763Z",
     "iopub.status.idle": "2021-03-23T04:11:35.890484Z",
     "shell.execute_reply": "2021-03-23T04:11:35.889936Z"
    },
    "papermill": {
     "duration": 0.041179,
     "end_time": "2021-03-23T04:11:35.890593",
     "exception": false,
     "start_time": "2021-03-23T04:11:35.849414",
     "status": "completed"
    },
    "tags": []
   },
   "outputs": [],
   "source": [
    "BATCH_SIZE = 32\n",
    "train_dataset = train_dataset.cache().repeat().shuffle(num_train_examples).batch(BATCH_SIZE)\n",
    "test_dataset = test_dataset.cache().batch(BATCH_SIZE)"
   ]
  },
  {
   "cell_type": "code",
   "execution_count": 17,
   "metadata": {
    "execution": {
     "iopub.execute_input": "2021-03-23T04:11:35.961369Z",
     "iopub.status.busy": "2021-03-23T04:11:35.960826Z",
     "iopub.status.idle": "2021-03-23T04:12:28.934968Z",
     "shell.execute_reply": "2021-03-23T04:12:28.934135Z"
    },
    "papermill": {
     "duration": 53.00972,
     "end_time": "2021-03-23T04:12:28.935098",
     "exception": false,
     "start_time": "2021-03-23T04:11:35.925378",
     "status": "completed"
    },
    "tags": []
   },
   "outputs": [
    {
     "name": "stdout",
     "output_type": "stream",
     "text": [
      "Epoch 1/10\n",
      "1875/1875 [==============================] - 12s 3ms/step - loss: 0.5532 - accuracy: 0.8002\n",
      "Epoch 2/10\n",
      "1875/1875 [==============================] - 4s 2ms/step - loss: 0.2724 - accuracy: 0.9016\n",
      "Epoch 3/10\n",
      "1875/1875 [==============================] - 4s 2ms/step - loss: 0.2218 - accuracy: 0.9173\n",
      "Epoch 4/10\n",
      "1875/1875 [==============================] - 5s 2ms/step - loss: 0.1884 - accuracy: 0.9291\n",
      "Epoch 5/10\n",
      "1875/1875 [==============================] - 4s 2ms/step - loss: 0.1632 - accuracy: 0.9415\n",
      "Epoch 6/10\n",
      "1875/1875 [==============================] - 5s 3ms/step - loss: 0.1397 - accuracy: 0.9489\n",
      "Epoch 7/10\n",
      "1875/1875 [==============================] - 4s 2ms/step - loss: 0.1155 - accuracy: 0.9562\n",
      "Epoch 8/10\n",
      "1875/1875 [==============================] - 5s 3ms/step - loss: 0.1042 - accuracy: 0.9611\n",
      "Epoch 9/10\n",
      "1875/1875 [==============================] - 4s 2ms/step - loss: 0.0854 - accuracy: 0.9689\n",
      "Epoch 10/10\n",
      "1875/1875 [==============================] - 4s 2ms/step - loss: 0.0679 - accuracy: 0.9757\n"
     ]
    },
    {
     "data": {
      "text/plain": [
       "<tensorflow.python.keras.callbacks.History at 0x7f800af881d0>"
      ]
     },
     "execution_count": 17,
     "metadata": {},
     "output_type": "execute_result"
    }
   ],
   "source": [
    "model.fit(train_dataset, epochs = 10, steps_per_epoch = math.ceil(num_train_examples/BATCH_SIZE))"
   ]
  },
  {
   "cell_type": "markdown",
   "metadata": {
    "papermill": {
     "duration": 0.258703,
     "end_time": "2021-03-23T04:12:29.480418",
     "exception": false,
     "start_time": "2021-03-23T04:12:29.221715",
     "status": "completed"
    },
    "tags": []
   },
   "source": [
    "**Evaluate accuracy**"
   ]
  },
  {
   "cell_type": "code",
   "execution_count": 18,
   "metadata": {
    "execution": {
     "iopub.execute_input": "2021-03-23T04:12:30.005253Z",
     "iopub.status.busy": "2021-03-23T04:12:30.004464Z",
     "iopub.status.idle": "2021-03-23T04:12:31.757510Z",
     "shell.execute_reply": "2021-03-23T04:12:31.757075Z"
    },
    "papermill": {
     "duration": 2.018085,
     "end_time": "2021-03-23T04:12:31.757626",
     "exception": false,
     "start_time": "2021-03-23T04:12:29.739541",
     "status": "completed"
    },
    "tags": []
   },
   "outputs": [
    {
     "name": "stdout",
     "output_type": "stream",
     "text": [
      "313/313 [==============================] - 2s 5ms/step - loss: 0.3105 - accuracy: 0.9187\n",
      "Accuracy on test dataset: 0.9186999797821045\n"
     ]
    }
   ],
   "source": [
    "test_loss, test_accuracy = model.evaluate(test_dataset,steps = math.ceil(num_test_examples / 32))\n",
    "print('Accuracy on test dataset:', test_accuracy)"
   ]
  },
  {
   "cell_type": "markdown",
   "metadata": {
    "papermill": {
     "duration": 0.272819,
     "end_time": "2021-03-23T04:12:32.298392",
     "exception": false,
     "start_time": "2021-03-23T04:12:32.025573",
     "status": "completed"
    },
    "tags": []
   },
   "source": [
    "# Make Predictions"
   ]
  },
  {
   "cell_type": "code",
   "execution_count": 19,
   "metadata": {
    "execution": {
     "iopub.execute_input": "2021-03-23T04:12:32.849081Z",
     "iopub.status.busy": "2021-03-23T04:12:32.848265Z",
     "iopub.status.idle": "2021-03-23T04:12:32.969695Z",
     "shell.execute_reply": "2021-03-23T04:12:32.968826Z"
    },
    "papermill": {
     "duration": 0.399691,
     "end_time": "2021-03-23T04:12:32.969824",
     "exception": false,
     "start_time": "2021-03-23T04:12:32.570133",
     "status": "completed"
    },
    "tags": []
   },
   "outputs": [],
   "source": [
    "for test_images, test_labels in test_dataset.take(1):\n",
    "    test_images =test_images.numpy()\n",
    "    test_labels = test_labels.numpy()\n",
    "    predictions = model.predict(test_images)"
   ]
  },
  {
   "cell_type": "code",
   "execution_count": 20,
   "metadata": {
    "execution": {
     "iopub.execute_input": "2021-03-23T04:12:33.510195Z",
     "iopub.status.busy": "2021-03-23T04:12:33.509615Z",
     "iopub.status.idle": "2021-03-23T04:12:33.515193Z",
     "shell.execute_reply": "2021-03-23T04:12:33.514755Z"
    },
    "papermill": {
     "duration": 0.275502,
     "end_time": "2021-03-23T04:12:33.515300",
     "exception": false,
     "start_time": "2021-03-23T04:12:33.239798",
     "status": "completed"
    },
    "tags": []
   },
   "outputs": [
    {
     "data": {
      "text/plain": [
       "(32, 10)"
      ]
     },
     "execution_count": 20,
     "metadata": {},
     "output_type": "execute_result"
    }
   ],
   "source": [
    "predictions.shape"
   ]
  },
  {
   "cell_type": "code",
   "execution_count": 21,
   "metadata": {
    "execution": {
     "iopub.execute_input": "2021-03-23T04:12:34.054376Z",
     "iopub.status.busy": "2021-03-23T04:12:34.053807Z",
     "iopub.status.idle": "2021-03-23T04:12:34.059430Z",
     "shell.execute_reply": "2021-03-23T04:12:34.059032Z"
    },
    "papermill": {
     "duration": 0.277338,
     "end_time": "2021-03-23T04:12:34.059537",
     "exception": false,
     "start_time": "2021-03-23T04:12:33.782199",
     "status": "completed"
    },
    "tags": []
   },
   "outputs": [
    {
     "data": {
      "text/plain": [
       "array([1.4544054e-06, 2.0497817e-09, 5.3997159e-02, 2.3196002e-08,\n",
       "       9.4366086e-01, 4.6537103e-08, 2.3404413e-03, 7.4175657e-09,\n",
       "       7.8953954e-10, 8.2749118e-08], dtype=float32)"
      ]
     },
     "execution_count": 21,
     "metadata": {},
     "output_type": "execute_result"
    }
   ],
   "source": [
    "predictions[0]"
   ]
  },
  {
   "cell_type": "code",
   "execution_count": 22,
   "metadata": {
    "execution": {
     "iopub.execute_input": "2021-03-23T04:12:34.607037Z",
     "iopub.status.busy": "2021-03-23T04:12:34.606489Z",
     "iopub.status.idle": "2021-03-23T04:12:34.611669Z",
     "shell.execute_reply": "2021-03-23T04:12:34.612205Z"
    },
    "papermill": {
     "duration": 0.279629,
     "end_time": "2021-03-23T04:12:34.612354",
     "exception": false,
     "start_time": "2021-03-23T04:12:34.332725",
     "status": "completed"
    },
    "tags": []
   },
   "outputs": [
    {
     "data": {
      "text/plain": [
       "4"
      ]
     },
     "execution_count": 22,
     "metadata": {},
     "output_type": "execute_result"
    }
   ],
   "source": [
    "np.argmax(predictions[0])"
   ]
  },
  {
   "cell_type": "code",
   "execution_count": 23,
   "metadata": {
    "execution": {
     "iopub.execute_input": "2021-03-23T04:12:35.154565Z",
     "iopub.status.busy": "2021-03-23T04:12:35.153926Z",
     "iopub.status.idle": "2021-03-23T04:12:35.157224Z",
     "shell.execute_reply": "2021-03-23T04:12:35.157624Z"
    },
    "papermill": {
     "duration": 0.278388,
     "end_time": "2021-03-23T04:12:35.157750",
     "exception": false,
     "start_time": "2021-03-23T04:12:34.879362",
     "status": "completed"
    },
    "tags": []
   },
   "outputs": [
    {
     "data": {
      "text/plain": [
       "4"
      ]
     },
     "execution_count": 23,
     "metadata": {},
     "output_type": "execute_result"
    }
   ],
   "source": [
    "test_labels[0]"
   ]
  },
  {
   "cell_type": "code",
   "execution_count": 24,
   "metadata": {
    "execution": {
     "iopub.execute_input": "2021-03-23T04:12:35.702470Z",
     "iopub.status.busy": "2021-03-23T04:12:35.701838Z",
     "iopub.status.idle": "2021-03-23T04:12:35.705695Z",
     "shell.execute_reply": "2021-03-23T04:12:35.705258Z"
    },
    "papermill": {
     "duration": 0.279526,
     "end_time": "2021-03-23T04:12:35.705803",
     "exception": false,
     "start_time": "2021-03-23T04:12:35.426277",
     "status": "completed"
    },
    "tags": []
   },
   "outputs": [],
   "source": [
    "def plot_image(i, predictions_array, ture_labels, images):\n",
    "    predictions_array, true_label, img = predictions_array[i], ture_labels[i],images[i]\n",
    "    plt.grid(False)\n",
    "    plt.xticks([])\n",
    "    plt.yticks([])\n",
    "    \n",
    "    plt.imshow(img[...,0], cmap = plt.cm.binary)\n",
    "    \n",
    "    predicted_label = np.argmax(predictions_array)\n",
    "    if predicted_label == true_label:\n",
    "        color = 'blue'\n",
    "    else:\n",
    "        color = 'red'\n",
    "        \n",
    "    plt.xlabel(\"{} {:2.0f}% ({})\".format(class_name[predicted_label],\n",
    "                                         100*np.max(predictions_array),\n",
    "                                         class_name[true_label]),\n",
    "               color=color)\n",
    "    \n",
    "def plot_value_array(i, predictions_array, true_label):\n",
    "    predictions_array, true_label = predictions_array[i], true_label[i]\n",
    "    plt.grid(False)\n",
    "    plt.xticks([])\n",
    "    plt.yticks([])\n",
    "    thisplot = plt.bar(range(10), predictions_array, color=\"#777777\")\n",
    "    plt.ylim([0, 1]) \n",
    "    predicted_label = np.argmax(predictions_array)\n",
    "  \n",
    "    thisplot[predicted_label].set_color('red')\n",
    "    thisplot[true_label].set_color('blue')"
   ]
  },
  {
   "cell_type": "code",
   "execution_count": 25,
   "metadata": {
    "execution": {
     "iopub.execute_input": "2021-03-23T04:12:36.283571Z",
     "iopub.status.busy": "2021-03-23T04:12:36.280406Z",
     "iopub.status.idle": "2021-03-23T04:12:36.361283Z",
     "shell.execute_reply": "2021-03-23T04:12:36.361690Z"
    },
    "papermill": {
     "duration": 0.387523,
     "end_time": "2021-03-23T04:12:36.361822",
     "exception": false,
     "start_time": "2021-03-23T04:12:35.974299",
     "status": "completed"
    },
    "tags": []
   },
   "outputs": [
    {
     "data": {
      "image/png": "[encoded data removed]",
      "text/plain": [
       "<Figure size 432x216 with 2 Axes>"
      ]
     },
     "metadata": {},
     "output_type": "display_data"
    }
   ],
   "source": [
    "i = 0\n",
    "plt.figure(figsize=(6,3))\n",
    "plt.subplot(1,2,1)\n",
    "plot_image(i, predictions, test_labels, test_images)\n",
    "plt.subplot(1,2,2)\n",
    "plot_value_array(i, predictions, test_labels)"
   ]
  },
  {
   "cell_type": "code",
   "execution_count": 26,
   "metadata": {
    "execution": {
     "iopub.execute_input": "2021-03-23T04:12:36.921152Z",
     "iopub.status.busy": "2021-03-23T04:12:36.918527Z",
     "iopub.status.idle": "2021-03-23T04:12:37.001254Z",
     "shell.execute_reply": "2021-03-23T04:12:37.000783Z"
    },
    "papermill": {
     "duration": 0.370139,
     "end_time": "2021-03-23T04:12:37.001365",
     "exception": false,
     "start_time": "2021-03-23T04:12:36.631226",
     "status": "completed"
    },
    "tags": []
   },
   "outputs": [
    {
     "data": {
      "image/png": "[encoded data removed]",
      "text/plain": [
       "<Figure size 432x216 with 2 Axes>"
      ]
     },
     "metadata": {},
     "output_type": "display_data"
    }
   ],
   "source": [
    "i = 12\n",
    "plt.figure(figsize=(6,3))\n",
    "plt.subplot(1,2,1)\n",
    "plot_image(i, predictions, test_labels, test_images)\n",
    "plt.subplot(1,2,2)\n",
    "plot_value_array(i, predictions, test_labels)"
   ]
  },
  {
   "cell_type": "code",
   "execution_count": 27,
   "metadata": {
    "execution": {
     "iopub.execute_input": "2021-03-23T04:12:37.563120Z",
     "iopub.status.busy": "2021-03-23T04:12:37.561995Z",
     "iopub.status.idle": "2021-03-23T04:12:39.362451Z",
     "shell.execute_reply": "2021-03-23T04:12:39.361712Z"
    },
    "papermill": {
     "duration": 2.090312,
     "end_time": "2021-03-23T04:12:39.362571",
     "exception": false,
     "start_time": "2021-03-23T04:12:37.272259",
     "status": "completed"
    },
    "tags": []
   },
   "outputs": [
    {
     "data": {
      "image/png": "[encoded data removed]",
      "text/plain": [
       "<Figure size 864x720 with 30 Axes>"
      ]
     },
     "metadata": {},
     "output_type": "display_data"
    }
   ],
   "source": [
    "# Plot the first X test images, their predicted label, and the true label\n",
    "# Color correct predictions in blue, incorrect predictions in red\n",
    "num_rows = 5\n",
    "num_cols = 3\n",
    "num_images = num_rows*num_cols\n",
    "plt.figure(figsize=(2*2*num_cols, 2*num_rows))\n",
    "for i in range(num_images):\n",
    "    plt.subplot(num_rows, 2*num_cols, 2*i+1)\n",
    "    plot_image(i, predictions, test_labels, test_images)\n",
    "    plt.subplot(num_rows, 2*num_cols, 2*i+2)\n",
    "    plot_value_array(i, predictions, test_labels)\n"
   ]
  },
  {
   "cell_type": "code",
   "execution_count": 28,
   "metadata": {
    "execution": {
     "iopub.execute_input": "2021-03-23T04:12:39.925257Z",
     "iopub.status.busy": "2021-03-23T04:12:39.924631Z",
     "iopub.status.idle": "2021-03-23T04:12:39.929309Z",
     "shell.execute_reply": "2021-03-23T04:12:39.929873Z"
    },
    "papermill": {
     "duration": 0.28958,
     "end_time": "2021-03-23T04:12:39.930053",
     "exception": false,
     "start_time": "2021-03-23T04:12:39.640473",
     "status": "completed"
    },
    "tags": []
   },
   "outputs": [
    {
     "name": "stdout",
     "output_type": "stream",
     "text": [
      "(28, 28, 1)\n"
     ]
    }
   ],
   "source": [
    "# Grab an image from the test dataset\n",
    "img = test_images[0]\n",
    "\n",
    "print(img.shape)"
   ]
  },
  {
   "cell_type": "code",
   "execution_count": 29,
   "metadata": {
    "execution": {
     "iopub.execute_input": "2021-03-23T04:12:40.494519Z",
     "iopub.status.busy": "2021-03-23T04:12:40.493838Z",
     "iopub.status.idle": "2021-03-23T04:12:40.496729Z",
     "shell.execute_reply": "2021-03-23T04:12:40.495025Z"
    },
    "papermill": {
     "duration": 0.291735,
     "end_time": "2021-03-23T04:12:40.496868",
     "exception": false,
     "start_time": "2021-03-23T04:12:40.205133",
     "status": "completed"
    },
    "tags": []
   },
   "outputs": [
    {
     "name": "stdout",
     "output_type": "stream",
     "text": [
      "(1, 28, 28, 1)\n"
     ]
    }
   ],
   "source": [
    "# Add the image to a batch where it's the only member.\n",
    "img = np.array([img])\n",
    "\n",
    "print(img.shape)"
   ]
  },
  {
   "cell_type": "code",
   "execution_count": 30,
   "metadata": {
    "execution": {
     "iopub.execute_input": "2021-03-23T04:12:41.186255Z",
     "iopub.status.busy": "2021-03-23T04:12:41.185365Z",
     "iopub.status.idle": "2021-03-23T04:12:41.326331Z",
     "shell.execute_reply": "2021-03-23T04:12:41.327307Z"
    },
    "papermill": {
     "duration": 0.532028,
     "end_time": "2021-03-23T04:12:41.327529",
     "exception": false,
     "start_time": "2021-03-23T04:12:40.795501",
     "status": "completed"
    },
    "tags": []
   },
   "outputs": [
    {
     "name": "stdout",
     "output_type": "stream",
     "text": [
      "[[1.4544048e-06 2.0497888e-09 5.3997505e-02 2.3195906e-08 9.4366056e-01\n",
      "  4.6537263e-08 2.3404560e-03 7.4176469e-09 7.8954987e-10 8.2749096e-08]]\n"
     ]
    }
   ],
   "source": [
    "predictions_single = model.predict(img)\n",
    "\n",
    "print(predictions_single)"
   ]
  },
  {
   "cell_type": "code",
   "execution_count": 31,
   "metadata": {
    "execution": {
     "iopub.execute_input": "2021-03-23T04:12:42.082028Z",
     "iopub.status.busy": "2021-03-23T04:12:42.081062Z",
     "iopub.status.idle": "2021-03-23T04:12:42.178994Z",
     "shell.execute_reply": "2021-03-23T04:12:42.178490Z"
    },
    "papermill": {
     "duration": 0.402666,
     "end_time": "2021-03-23T04:12:42.179120",
     "exception": false,
     "start_time": "2021-03-23T04:12:41.776454",
     "status": "completed"
    },
    "tags": []
   },
   "outputs": [
    {
     "data": {
      "image/png": "[encoded data removed]",
      "text/plain": [
       "<Figure size 432x288 with 1 Axes>"
      ]
     },
     "metadata": {
      "needs_background": "light"
     },
     "output_type": "display_data"
    }
   ],
   "source": [
    "plot_value_array(0, predictions_single, test_labels)\n",
    "_ = plt.xticks(range(10), class_name, rotation=45)"
   ]
  },
  {
   "cell_type": "code",
   "execution_count": 32,
   "metadata": {
    "execution": {
     "iopub.execute_input": "2021-03-23T04:12:42.755365Z",
     "iopub.status.busy": "2021-03-23T04:12:42.754624Z",
     "iopub.status.idle": "2021-03-23T04:12:42.758118Z",
     "shell.execute_reply": "2021-03-23T04:12:42.758513Z"
    },
    "papermill": {
     "duration": 0.293543,
     "end_time": "2021-03-23T04:12:42.758645",
     "exception": false,
     "start_time": "2021-03-23T04:12:42.465102",
     "status": "completed"
    },
    "tags": []
   },
   "outputs": [
    {
     "data": {
      "text/plain": [
       "4"
      ]
     },
     "execution_count": 32,
     "metadata": {},
     "output_type": "execute_result"
    }
   ],
   "source": [
    "np.argmax(predictions_single[0])"
   ]
  },
  {
   "cell_type": "code",
   "execution_count": null,
   "metadata": {
    "papermill": {
     "duration": 0.283821,
     "end_time": "2021-03-23T04:12:43.331365",
     "exception": false,
     "start_time": "2021-03-23T04:12:43.047544",
     "status": "completed"
    },
    "tags": []
   },
   "outputs": [],
   "source": []
  }
 ],
 "metadata": {
  "kernelspec": {
   "display_name": "Python 3",
   "language": "python",
   "name": "python3"
  },
  "language_info": {
   "codemirror_mode": {
    "name": "ipython",
    "version": 3
   },
   "file_extension": ".py",
   "mimetype": "text/x-python",
   "name": "python",
   "nbconvert_exporter": "python",
   "pygments_lexer": "ipython3",
   "version": "3.7.9"
  },
  "papermill": {
   "default_parameters": {},
   "duration": 124.804647,
   "end_time": "2021-03-23T04:12:46.177970",
   "environment_variables": {},
   "exception": null,
   "input_path": "__notebook__.ipynb",
   "output_path": "__notebook__.ipynb",
   "parameters": {},
   "start_time": "2021-03-23T04:10:41.373323",
   "version": "2.2.2"
  }
 },
 "nbformat": 4,
 "nbformat_minor": 4
}
