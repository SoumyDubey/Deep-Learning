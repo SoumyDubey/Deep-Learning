{
 "cells": [
  {
   "cell_type": "code",
   "execution_count": 1,
   "metadata": {
    "_cell_guid": "b1076dfc-b9ad-4769-8c92-a6c4dae69d19",
    "_uuid": "8f2839f25d086af736a60e9eeb907d3b93b6e0e5",
    "execution": {
     "iopub.execute_input": "2021-03-22T06:19:14.160891Z",
     "iopub.status.busy": "2021-03-22T06:19:14.160247Z",
     "iopub.status.idle": "2021-03-22T06:19:14.163704Z",
     "shell.execute_reply": "2021-03-22T06:19:14.163067Z"
    },
    "papermill": {
     "duration": 0.030469,
     "end_time": "2021-03-22T06:19:14.163878",
     "exception": false,
     "start_time": "2021-03-22T06:19:14.133409",
     "status": "completed"
    },
    "tags": []
   },
   "outputs": [],
   "source": [
    "# This Python 3 environment comes with many helpful analytics libraries installed\n",
    "# It is defined by the kaggle/python Docker image: https://github.com/kaggle/docker-python\n",
    "# For example, here's several helpful packages to load\n",
    "\n",
    "import numpy as np # linear algebra\n",
    "import pandas as pd # data processing, CSV file I/O (e.g. pd.read_csv)\n",
    "\n",
    "# Input data files are available in the read-only \"../input/\" directory\n",
    "# For example, running this (by clicking run or pressing Shift+Enter) will list all files under the input directory\n",
    "\n",
    "import os\n",
    "for dirname, _, filenames in os.walk('/kaggle/input'):\n",
    "    for filename in filenames:\n",
    "        print(os.path.join(dirname, filename))\n",
    "\n",
    "# You can write up to 20GB to the current directory (/kaggle/working/) that gets preserved as output when you create a version using \"Save & Run All\" \n",
    "# You can also write temporary files to /kaggle/temp/, but they won't be saved outside of the current session"
   ]
  },
  {
   "cell_type": "code",
   "execution_count": 2,
   "metadata": {
    "execution": {
     "iopub.execute_input": "2021-03-22T06:19:14.209642Z",
     "iopub.status.busy": "2021-03-22T06:19:14.208944Z",
     "iopub.status.idle": "2021-03-22T06:19:25.406850Z",
     "shell.execute_reply": "2021-03-22T06:19:25.406115Z"
    },
    "papermill": {
     "duration": 11.22213,
     "end_time": "2021-03-22T06:19:25.407027",
     "exception": false,
     "start_time": "2021-03-22T06:19:14.184897",
     "status": "completed"
    },
    "tags": []
   },
   "outputs": [
    {
     "name": "stdout",
     "output_type": "stream",
     "text": [
      "Requirement already satisfied: tensorflow_datasets in /opt/conda/lib/python3.7/site-packages (3.0.0)\r\n",
      "Collecting tensorflow_datasets\r\n",
      "  Downloading tensorflow_datasets-4.2.0-py3-none-any.whl (3.7 MB)\r\n",
      "\u001b[K     |████████████████████████████████| 3.7 MB 1.2 MB/s \r\n",
      "\u001b[?25hRequirement already satisfied: promise in /opt/conda/lib/python3.7/site-packages (from tensorflow_datasets) (2.3)\r\n",
      "Requirement already satisfied: attrs>=18.1.0 in /opt/conda/lib/python3.7/site-packages (from tensorflow_datasets) (20.3.0)\r\n",
      "Requirement already satisfied: six in /opt/conda/lib/python3.7/site-packages (from tensorflow_datasets) (1.15.0)\r\n",
      "Requirement already satisfied: typing-extensions in /opt/conda/lib/python3.7/site-packages (from tensorflow_datasets) (3.7.4.3)\r\n",
      "Requirement already satisfied: requests>=2.19.0 in /opt/conda/lib/python3.7/site-packages (from tensorflow_datasets) (2.25.1)\r\n",
      "Requirement already satisfied: protobuf>=3.12.2 in /opt/conda/lib/python3.7/site-packages (from tensorflow_datasets) (3.14.0)\r\n",
      "Collecting importlib-resources\r\n",
      "  Downloading importlib_resources-5.1.2-py3-none-any.whl (25 kB)\r\n",
      "Requirement already satisfied: numpy in /opt/conda/lib/python3.7/site-packages (from tensorflow_datasets) (1.19.5)\r\n",
      "Requirement already satisfied: future in /opt/conda/lib/python3.7/site-packages (from tensorflow_datasets) (0.18.2)\r\n",
      "Requirement already satisfied: termcolor in /opt/conda/lib/python3.7/site-packages (from tensorflow_datasets) (1.1.0)\r\n",
      "Requirement already satisfied: tensorflow-metadata in /opt/conda/lib/python3.7/site-packages (from tensorflow_datasets) (0.27.0)\r\n",
      "Requirement already satisfied: tqdm in /opt/conda/lib/python3.7/site-packages (from tensorflow_datasets) (4.55.1)\r\n",
      "Requirement already satisfied: absl-py in /opt/conda/lib/python3.7/site-packages (from tensorflow_datasets) (0.10.0)\r\n",
      "Requirement already satisfied: dill in /opt/conda/lib/python3.7/site-packages (from tensorflow_datasets) (0.3.3)\r\n",
      "Requirement already satisfied: certifi>=2017.4.17 in /opt/conda/lib/python3.7/site-packages (from requests>=2.19.0->tensorflow_datasets) (2020.12.5)\r\n",
      "Requirement already satisfied: idna<3,>=2.5 in /opt/conda/lib/python3.7/site-packages (from requests>=2.19.0->tensorflow_datasets) (2.10)\r\n",
      "Requirement already satisfied: chardet<5,>=3.0.2 in /opt/conda/lib/python3.7/site-packages (from requests>=2.19.0->tensorflow_datasets) (3.0.4)\r\n",
      "Requirement already satisfied: urllib3<1.27,>=1.21.1 in /opt/conda/lib/python3.7/site-packages (from requests>=2.19.0->tensorflow_datasets) (1.26.2)\r\n",
      "Requirement already satisfied: zipp>=0.4 in /opt/conda/lib/python3.7/site-packages (from importlib-resources->tensorflow_datasets) (3.4.0)\r\n",
      "Requirement already satisfied: googleapis-common-protos<2,>=1.52.0 in /opt/conda/lib/python3.7/site-packages (from tensorflow-metadata->tensorflow_datasets) (1.52.0)\r\n",
      "Installing collected packages: importlib-resources, tensorflow-datasets\r\n",
      "  Attempting uninstall: tensorflow-datasets\r\n",
      "    Found existing installation: tensorflow-datasets 3.0.0\r\n",
      "    Uninstalling tensorflow-datasets-3.0.0:\r\n",
      "      Successfully uninstalled tensorflow-datasets-3.0.0\r\n",
      "\u001b[31mERROR: pip's dependency resolver does not currently take into account all the packages that are installed. This behaviour is the source of the following dependency conflicts.\r\n",
      "tensorflow-cloud 0.1.13 requires tensorflow-datasets<3.1.0, but you have tensorflow-datasets 4.2.0 which is incompatible.\u001b[0m\r\n",
      "Successfully installed importlib-resources-5.1.2 tensorflow-datasets-4.2.0\r\n"
     ]
    }
   ],
   "source": [
    "!pip install -U tensorflow_datasets"
   ]
  },
  {
   "cell_type": "code",
   "execution_count": 3,
   "metadata": {
    "execution": {
     "iopub.execute_input": "2021-03-22T06:19:25.469521Z",
     "iopub.status.busy": "2021-03-22T06:19:25.468733Z",
     "iopub.status.idle": "2021-03-22T06:19:30.813831Z",
     "shell.execute_reply": "2021-03-22T06:19:30.812501Z"
    },
    "papermill": {
     "duration": 5.377609,
     "end_time": "2021-03-22T06:19:30.813966",
     "exception": false,
     "start_time": "2021-03-22T06:19:25.436357",
     "status": "completed"
    },
    "tags": []
   },
   "outputs": [],
   "source": [
    "import tensorflow as tf"
   ]
  },
  {
   "cell_type": "code",
   "execution_count": 4,
   "metadata": {
    "execution": {
     "iopub.execute_input": "2021-03-22T06:19:30.877549Z",
     "iopub.status.busy": "2021-03-22T06:19:30.876670Z",
     "iopub.status.idle": "2021-03-22T06:19:31.167190Z",
     "shell.execute_reply": "2021-03-22T06:19:31.166662Z"
    },
    "papermill": {
     "duration": 0.32368,
     "end_time": "2021-03-22T06:19:31.167333",
     "exception": false,
     "start_time": "2021-03-22T06:19:30.843653",
     "status": "completed"
    },
    "tags": []
   },
   "outputs": [],
   "source": [
    "# Import Tensorflow Datasets\n",
    "import tensorflow_datasets as tfds\n",
    "tfds.disable_progress_bar()\n",
    "\n",
    "# Hepler Libraries\n",
    "import math\n",
    "import numpy as np\n",
    "import matplotlib.pyplot as plt"
   ]
  },
  {
   "cell_type": "code",
   "execution_count": 5,
   "metadata": {
    "execution": {
     "iopub.execute_input": "2021-03-22T06:19:31.230585Z",
     "iopub.status.busy": "2021-03-22T06:19:31.228818Z",
     "iopub.status.idle": "2021-03-22T06:19:31.231190Z",
     "shell.execute_reply": "2021-03-22T06:19:31.231591Z"
    },
    "papermill": {
     "duration": 0.035443,
     "end_time": "2021-03-22T06:19:31.231730",
     "exception": false,
     "start_time": "2021-03-22T06:19:31.196287",
     "status": "completed"
    },
    "tags": []
   },
   "outputs": [],
   "source": [
    "import logging\n",
    "logger = tf.get_logger()\n",
    "logger.setLevel(logging.ERROR)"
   ]
  },
  {
   "cell_type": "markdown",
   "metadata": {
    "papermill": {
     "duration": 0.028269,
     "end_time": "2021-03-22T06:19:31.288436",
     "exception": false,
     "start_time": "2021-03-22T06:19:31.260167",
     "status": "completed"
    },
    "tags": []
   },
   "source": [
    "# Import Fashion MNIST datsets"
   ]
  },
  {
   "cell_type": "code",
   "execution_count": 6,
   "metadata": {
    "execution": {
     "iopub.execute_input": "2021-03-22T06:19:31.349429Z",
     "iopub.status.busy": "2021-03-22T06:19:31.348846Z",
     "iopub.status.idle": "2021-03-22T06:20:01.301227Z",
     "shell.execute_reply": "2021-03-22T06:20:01.300750Z"
    },
    "papermill": {
     "duration": 29.984411,
     "end_time": "2021-03-22T06:20:01.301352",
     "exception": false,
     "start_time": "2021-03-22T06:19:31.316941",
     "status": "completed"
    },
    "tags": []
   },
   "outputs": [
    {
     "name": "stdout",
     "output_type": "stream",
     "text": [
      "\u001b[1mDownloading and preparing dataset 29.45 MiB (download: 29.45 MiB, generated: 36.42 MiB, total: 65.87 MiB) to /root/tensorflow_datasets/fashion_mnist/3.0.1...\u001b[0m\n",
      "\u001b[1mDataset fashion_mnist downloaded and prepared to /root/tensorflow_datasets/fashion_mnist/3.0.1. Subsequent calls will reuse this data.\u001b[0m\n"
     ]
    }
   ],
   "source": [
    "dataset, metdata = tfds.load('fashion_mnist', as_supervised = True, with_info = True)\n",
    "train_dataset, test_dataset = dataset['train'], dataset['test']"
   ]
  },
  {
   "cell_type": "code",
   "execution_count": 7,
   "metadata": {
    "execution": {
     "iopub.execute_input": "2021-03-22T06:20:01.364009Z",
     "iopub.status.busy": "2021-03-22T06:20:01.363393Z",
     "iopub.status.idle": "2021-03-22T06:20:01.366544Z",
     "shell.execute_reply": "2021-03-22T06:20:01.367229Z"
    },
    "papermill": {
     "duration": 0.037018,
     "end_time": "2021-03-22T06:20:01.367402",
     "exception": false,
     "start_time": "2021-03-22T06:20:01.330384",
     "status": "completed"
    },
    "tags": []
   },
   "outputs": [
    {
     "name": "stdout",
     "output_type": "stream",
     "text": [
      "Class Names: ['T-shirt/top', 'Trouser', 'Pullover', 'Dress', 'Coat', 'Sandal', 'Shirt', 'Sneaker', 'Bag', 'Ankle boot']\n"
     ]
    }
   ],
   "source": [
    "class_name = metdata.features['label'].names\n",
    "print('Class Names: {}'.format(class_name))"
   ]
  },
  {
   "cell_type": "markdown",
   "metadata": {
    "papermill": {
     "duration": 0.028967,
     "end_time": "2021-03-22T06:20:01.426238",
     "exception": false,
     "start_time": "2021-03-22T06:20:01.397271",
     "status": "completed"
    },
    "tags": []
   },
   "source": [
    "**Explore the data**"
   ]
  },
  {
   "cell_type": "code",
   "execution_count": 8,
   "metadata": {
    "execution": {
     "iopub.execute_input": "2021-03-22T06:20:01.492502Z",
     "iopub.status.busy": "2021-03-22T06:20:01.491812Z",
     "iopub.status.idle": "2021-03-22T06:20:01.495166Z",
     "shell.execute_reply": "2021-03-22T06:20:01.495695Z"
    },
    "papermill": {
     "duration": 0.040236,
     "end_time": "2021-03-22T06:20:01.495873",
     "exception": false,
     "start_time": "2021-03-22T06:20:01.455637",
     "status": "completed"
    },
    "tags": []
   },
   "outputs": [
    {
     "name": "stdout",
     "output_type": "stream",
     "text": [
      "Number of training examples: 60000\n",
      "Number of test examples: 10000\n"
     ]
    }
   ],
   "source": [
    "num_train_examples = metdata.splits['train'].num_examples\n",
    "num_test_examples = metdata.splits['test'].num_examples\n",
    "\n",
    "print('Number of training examples: {}'.format(num_train_examples))\n",
    "print('Number of test examples: {}'.format(num_test_examples))"
   ]
  },
  {
   "cell_type": "markdown",
   "metadata": {
    "papermill": {
     "duration": 0.029493,
     "end_time": "2021-03-22T06:20:01.556009",
     "exception": false,
     "start_time": "2021-03-22T06:20:01.526516",
     "status": "completed"
    },
    "tags": []
   },
   "source": [
    "**Preprocess the data**"
   ]
  },
  {
   "cell_type": "code",
   "execution_count": 9,
   "metadata": {
    "execution": {
     "iopub.execute_input": "2021-03-22T06:20:01.622698Z",
     "iopub.status.busy": "2021-03-22T06:20:01.621814Z",
     "iopub.status.idle": "2021-03-22T06:20:01.624330Z",
     "shell.execute_reply": "2021-03-22T06:20:01.624799Z"
    },
    "papermill": {
     "duration": 0.037629,
     "end_time": "2021-03-22T06:20:01.624932",
     "exception": false,
     "start_time": "2021-03-22T06:20:01.587303",
     "status": "completed"
    },
    "tags": []
   },
   "outputs": [],
   "source": [
    "def normalize(images, labels):\n",
    "    images = tf.cast(images, tf.float32)\n",
    "    images /= 255\n",
    "    return images, labels"
   ]
  },
  {
   "cell_type": "code",
   "execution_count": 10,
   "metadata": {
    "execution": {
     "iopub.execute_input": "2021-03-22T06:20:01.689909Z",
     "iopub.status.busy": "2021-03-22T06:20:01.689146Z",
     "iopub.status.idle": "2021-03-22T06:20:01.740533Z",
     "shell.execute_reply": "2021-03-22T06:20:01.740099Z"
    },
    "papermill": {
     "duration": 0.085628,
     "end_time": "2021-03-22T06:20:01.740643",
     "exception": false,
     "start_time": "2021-03-22T06:20:01.655015",
     "status": "completed"
    },
    "tags": []
   },
   "outputs": [],
   "source": [
    "# Map the function applies the normalize function to each elemets in the train and test datasets\n",
    "\n",
    "train_dataset = train_dataset.map(normalize)\n",
    "test_dataset = test_dataset.map(normalize)"
   ]
  },
  {
   "cell_type": "code",
   "execution_count": 11,
   "metadata": {
    "execution": {
     "iopub.execute_input": "2021-03-22T06:20:01.806855Z",
     "iopub.status.busy": "2021-03-22T06:20:01.806023Z",
     "iopub.status.idle": "2021-03-22T06:20:01.809859Z",
     "shell.execute_reply": "2021-03-22T06:20:01.809359Z"
    },
    "papermill": {
     "duration": 0.039051,
     "end_time": "2021-03-22T06:20:01.809967",
     "exception": false,
     "start_time": "2021-03-22T06:20:01.770916",
     "status": "completed"
    },
    "tags": []
   },
   "outputs": [],
   "source": [
    "# First time you use the datasets, the images will be loaded from disk Caching will keep them in memory, making training faster\n",
    "\n",
    "train_dataset = train_dataset.cache()\n",
    "test_dataset = test_dataset.cache()"
   ]
  },
  {
   "cell_type": "markdown",
   "metadata": {
    "papermill": {
     "duration": 0.029841,
     "end_time": "2021-03-22T06:20:01.870230",
     "exception": false,
     "start_time": "2021-03-22T06:20:01.840389",
     "status": "completed"
    },
    "tags": []
   },
   "source": [
    "**Explore the processed data**"
   ]
  },
  {
   "cell_type": "code",
   "execution_count": 12,
   "metadata": {
    "execution": {
     "iopub.execute_input": "2021-03-22T06:20:01.936012Z",
     "iopub.status.busy": "2021-03-22T06:20:01.935156Z",
     "iopub.status.idle": "2021-03-22T06:20:02.559023Z",
     "shell.execute_reply": "2021-03-22T06:20:02.560158Z"
    },
    "papermill": {
     "duration": 0.65996,
     "end_time": "2021-03-22T06:20:02.560394",
     "exception": false,
     "start_time": "2021-03-22T06:20:01.900434",
     "status": "completed"
    },
    "tags": []
   },
   "outputs": [
    {
     "data": {
      "image/png": "[encoded data removed]",
      "text/plain": [
       "<Figure size 432x288 with 2 Axes>"
      ]
     },
     "metadata": {
      "needs_background": "light"
     },
     "output_type": "display_data"
    }
   ],
   "source": [
    "# Take a single image, and remove the color dimension by reshaping \n",
    "for image, label in test_dataset.take(1):\n",
    "    break\n",
    "image - image.numpy().reshape((28,28))\n",
    "\n",
    "# Plot the image - voile a piece of fashion clothing\n",
    "plt.figure()\n",
    "plt.imshow(image, cmap= plt.cm.binary)\n",
    "plt.colorbar()\n",
    "plt.grid(False)\n",
    "plt.show()"
   ]
  },
  {
   "cell_type": "code",
   "execution_count": 13,
   "metadata": {
    "execution": {
     "iopub.execute_input": "2021-03-22T06:20:02.685241Z",
     "iopub.status.busy": "2021-03-22T06:20:02.684404Z",
     "iopub.status.idle": "2021-03-22T06:20:03.821387Z",
     "shell.execute_reply": "2021-03-22T06:20:03.820905Z"
    },
    "papermill": {
     "duration": 1.202195,
     "end_time": "2021-03-22T06:20:03.821514",
     "exception": false,
     "start_time": "2021-03-22T06:20:02.619319",
     "status": "completed"
    },
    "tags": []
   },
   "outputs": [
    {
     "data": {
      "image/png": "[encoded data removed]",
      "text/plain": [
       "<Figure size 720x720 with 25 Axes>"
      ]
     },
     "metadata": {},
     "output_type": "display_data"
    }
   ],
   "source": [
    "plt.figure(figsize = (10,10))\n",
    "for i, (image, label) in enumerate(test_dataset.take(25)):\n",
    "    image = image.numpy().reshape((28,28))\n",
    "    plt.subplot(5,5,i+1)\n",
    "    plt.xticks([])\n",
    "    plt.yticks([])\n",
    "    plt.grid(False)\n",
    "    plt.imshow(image, cmap = plt.cm.binary)\n",
    "    plt.xlabel(class_name[label])\n",
    "plt.show()"
   ]
  },
  {
   "cell_type": "markdown",
   "metadata": {
    "papermill": {
     "duration": 0.032044,
     "end_time": "2021-03-22T06:20:03.886552",
     "exception": false,
     "start_time": "2021-03-22T06:20:03.854508",
     "status": "completed"
    },
    "tags": []
   },
   "source": [
    "# Bulid The Model"
   ]
  },
  {
   "cell_type": "markdown",
   "metadata": {
    "papermill": {
     "duration": 0.032097,
     "end_time": "2021-03-22T06:20:03.950921",
     "exception": false,
     "start_time": "2021-03-22T06:20:03.918824",
     "status": "completed"
    },
    "tags": []
   },
   "source": [
    "**Layers Setup** "
   ]
  },
  {
   "cell_type": "code",
   "execution_count": 14,
   "metadata": {
    "execution": {
     "iopub.execute_input": "2021-03-22T06:20:04.021190Z",
     "iopub.status.busy": "2021-03-22T06:20:04.020513Z",
     "iopub.status.idle": "2021-03-22T06:20:04.062687Z",
     "shell.execute_reply": "2021-03-22T06:20:04.061819Z"
    },
    "papermill": {
     "duration": 0.079813,
     "end_time": "2021-03-22T06:20:04.062803",
     "exception": false,
     "start_time": "2021-03-22T06:20:03.982990",
     "status": "completed"
    },
    "tags": []
   },
   "outputs": [],
   "source": [
    "model = tf.keras.Sequential([\n",
    "    tf.keras.layers.Flatten(input_shape = (28,28,1)),\n",
    "    tf.keras.layers.Dense(128, activation = tf.nn.relu),\n",
    "    tf.keras.layers.Dense(10,activation = tf.nn.softmax)\n",
    "])"
   ]
  },
  {
   "cell_type": "markdown",
   "metadata": {
    "papermill": {
     "duration": 0.033355,
     "end_time": "2021-03-22T06:20:04.129343",
     "exception": false,
     "start_time": "2021-03-22T06:20:04.095988",
     "status": "completed"
    },
    "tags": []
   },
   "source": [
    "**Complie the model**"
   ]
  },
  {
   "cell_type": "code",
   "execution_count": 15,
   "metadata": {
    "execution": {
     "iopub.execute_input": "2021-03-22T06:20:04.206363Z",
     "iopub.status.busy": "2021-03-22T06:20:04.205542Z",
     "iopub.status.idle": "2021-03-22T06:20:04.212847Z",
     "shell.execute_reply": "2021-03-22T06:20:04.212453Z"
    },
    "papermill": {
     "duration": 0.051212,
     "end_time": "2021-03-22T06:20:04.212968",
     "exception": false,
     "start_time": "2021-03-22T06:20:04.161756",
     "status": "completed"
    },
    "tags": []
   },
   "outputs": [],
   "source": [
    "model.compile(optimizer = 'adam',\n",
    "             loss = tf.keras.losses.SparseCategoricalCrossentropy(),\n",
    "             metrics = ['accuracy'])"
   ]
  },
  {
   "cell_type": "markdown",
   "metadata": {
    "papermill": {
     "duration": 0.032632,
     "end_time": "2021-03-22T06:20:04.277918",
     "exception": false,
     "start_time": "2021-03-22T06:20:04.245286",
     "status": "completed"
    },
    "tags": []
   },
   "source": [
    "**Train the Model**"
   ]
  },
  {
   "cell_type": "code",
   "execution_count": 16,
   "metadata": {
    "execution": {
     "iopub.execute_input": "2021-03-22T06:20:04.348160Z",
     "iopub.status.busy": "2021-03-22T06:20:04.347342Z",
     "iopub.status.idle": "2021-03-22T06:20:04.352515Z",
     "shell.execute_reply": "2021-03-22T06:20:04.352104Z"
    },
    "papermill": {
     "duration": 0.042047,
     "end_time": "2021-03-22T06:20:04.352629",
     "exception": false,
     "start_time": "2021-03-22T06:20:04.310582",
     "status": "completed"
    },
    "tags": []
   },
   "outputs": [],
   "source": [
    "BATCH_SIZE = 32\n",
    "train_dataset = train_dataset.cache().repeat().shuffle(num_train_examples).batch(BATCH_SIZE)\n",
    "test_dataset = test_dataset.cache().batch(BATCH_SIZE)"
   ]
  },
  {
   "cell_type": "code",
   "execution_count": 17,
   "metadata": {
    "execution": {
     "iopub.execute_input": "2021-03-22T06:20:04.422677Z",
     "iopub.status.busy": "2021-03-22T06:20:04.422154Z",
     "iopub.status.idle": "2021-03-22T06:20:27.276276Z",
     "shell.execute_reply": "2021-03-22T06:20:27.276656Z"
    },
    "papermill": {
     "duration": 22.891806,
     "end_time": "2021-03-22T06:20:27.276808",
     "exception": false,
     "start_time": "2021-03-22T06:20:04.385002",
     "status": "completed"
    },
    "tags": []
   },
   "outputs": [
    {
     "name": "stdout",
     "output_type": "stream",
     "text": [
      "Epoch 1/5\n",
      "1875/1875 [==============================] - 8s 2ms/step - loss: 0.6204 - accuracy: 0.7837\n",
      "Epoch 2/5\n",
      "1875/1875 [==============================] - 4s 2ms/step - loss: 0.3773 - accuracy: 0.8643\n",
      "Epoch 3/5\n",
      "1875/1875 [==============================] - 3s 2ms/step - loss: 0.3397 - accuracy: 0.8773\n",
      "Epoch 4/5\n",
      "1875/1875 [==============================] - 4s 2ms/step - loss: 0.3088 - accuracy: 0.8888\n",
      "Epoch 5/5\n",
      "1875/1875 [==============================] - 4s 2ms/step - loss: 0.2990 - accuracy: 0.8895\n"
     ]
    },
    {
     "data": {
      "text/plain": [
       "<tensorflow.python.keras.callbacks.History at 0x7f7760fcbe90>"
      ]
     },
     "execution_count": 17,
     "metadata": {},
     "output_type": "execute_result"
    }
   ],
   "source": [
    "model.fit(train_dataset, epochs = 5, steps_per_epoch = math.ceil(num_train_examples/BATCH_SIZE))"
   ]
  },
  {
   "cell_type": "markdown",
   "metadata": {
    "papermill": {
     "duration": 0.133731,
     "end_time": "2021-03-22T06:20:27.538667",
     "exception": false,
     "start_time": "2021-03-22T06:20:27.404936",
     "status": "completed"
    },
    "tags": []
   },
   "source": [
    "**Evaluate accuracy**"
   ]
  },
  {
   "cell_type": "code",
   "execution_count": 18,
   "metadata": {
    "execution": {
     "iopub.execute_input": "2021-03-22T06:20:27.792831Z",
     "iopub.status.busy": "2021-03-22T06:20:27.792177Z",
     "iopub.status.idle": "2021-03-22T06:20:29.239931Z",
     "shell.execute_reply": "2021-03-22T06:20:29.240359Z"
    },
    "papermill": {
     "duration": 1.57775,
     "end_time": "2021-03-22T06:20:29.240512",
     "exception": false,
     "start_time": "2021-03-22T06:20:27.662762",
     "status": "completed"
    },
    "tags": []
   },
   "outputs": [
    {
     "name": "stdout",
     "output_type": "stream",
     "text": [
      "313/313 [==============================] - 1s 4ms/step - loss: 0.3474 - accuracy: 0.8747\n",
      "Accuracy on test dataset: 0.8747000098228455\n"
     ]
    }
   ],
   "source": [
    "test_loss, test_accuracy = model.evaluate(test_dataset,steps = math.ceil(num_test_examples / 32))\n",
    "print('Accuracy on test dataset:', test_accuracy)"
   ]
  },
  {
   "cell_type": "markdown",
   "metadata": {
    "papermill": {
     "duration": 0.135899,
     "end_time": "2021-03-22T06:20:29.508399",
     "exception": false,
     "start_time": "2021-03-22T06:20:29.372500",
     "status": "completed"
    },
    "tags": []
   },
   "source": [
    "# Make Predictions"
   ]
  },
  {
   "cell_type": "code",
   "execution_count": 19,
   "metadata": {
    "execution": {
     "iopub.execute_input": "2021-03-22T06:20:29.777382Z",
     "iopub.status.busy": "2021-03-22T06:20:29.776787Z",
     "iopub.status.idle": "2021-03-22T06:20:29.887899Z",
     "shell.execute_reply": "2021-03-22T06:20:29.886885Z"
    },
    "papermill": {
     "duration": 0.247856,
     "end_time": "2021-03-22T06:20:29.888081",
     "exception": false,
     "start_time": "2021-03-22T06:20:29.640225",
     "status": "completed"
    },
    "tags": []
   },
   "outputs": [],
   "source": [
    "for test_images, test_labels in test_dataset.take(1):\n",
    "    test_images =test_images.numpy()\n",
    "    test_labels = test_labels.numpy()\n",
    "    predictions = model.predict(test_images)"
   ]
  },
  {
   "cell_type": "code",
   "execution_count": 20,
   "metadata": {
    "execution": {
     "iopub.execute_input": "2021-03-22T06:20:30.157129Z",
     "iopub.status.busy": "2021-03-22T06:20:30.156555Z",
     "iopub.status.idle": "2021-03-22T06:20:30.161786Z",
     "shell.execute_reply": "2021-03-22T06:20:30.162671Z"
    },
    "papermill": {
     "duration": 0.141939,
     "end_time": "2021-03-22T06:20:30.162810",
     "exception": false,
     "start_time": "2021-03-22T06:20:30.020871",
     "status": "completed"
    },
    "tags": []
   },
   "outputs": [
    {
     "data": {
      "text/plain": [
       "(32, 10)"
      ]
     },
     "execution_count": 20,
     "metadata": {},
     "output_type": "execute_result"
    }
   ],
   "source": [
    "predictions.shape"
   ]
  },
  {
   "cell_type": "code",
   "execution_count": 21,
   "metadata": {
    "execution": {
     "iopub.execute_input": "2021-03-22T06:20:30.434191Z",
     "iopub.status.busy": "2021-03-22T06:20:30.432844Z",
     "iopub.status.idle": "2021-03-22T06:20:30.436894Z",
     "shell.execute_reply": "2021-03-22T06:20:30.436463Z"
    },
    "papermill": {
     "duration": 0.142145,
     "end_time": "2021-03-22T06:20:30.437040",
     "exception": false,
     "start_time": "2021-03-22T06:20:30.294895",
     "status": "completed"
    },
    "tags": []
   },
   "outputs": [
    {
     "data": {
      "text/plain": [
       "array([7.5416856e-06, 1.3111556e-05, 6.2188664e-03, 7.0012265e-07,\n",
       "       9.6860135e-01, 1.2534616e-10, 2.5156062e-02, 3.5815778e-10,\n",
       "       2.2680667e-06, 1.0922097e-09], dtype=float32)"
      ]
     },
     "execution_count": 21,
     "metadata": {},
     "output_type": "execute_result"
    }
   ],
   "source": [
    "predictions[0]"
   ]
  },
  {
   "cell_type": "code",
   "execution_count": 22,
   "metadata": {
    "execution": {
     "iopub.execute_input": "2021-03-22T06:20:30.713537Z",
     "iopub.status.busy": "2021-03-22T06:20:30.712692Z",
     "iopub.status.idle": "2021-03-22T06:20:30.717583Z",
     "shell.execute_reply": "2021-03-22T06:20:30.717153Z"
    },
    "papermill": {
     "duration": 0.142293,
     "end_time": "2021-03-22T06:20:30.717696",
     "exception": false,
     "start_time": "2021-03-22T06:20:30.575403",
     "status": "completed"
    },
    "tags": []
   },
   "outputs": [
    {
     "data": {
      "text/plain": [
       "4"
      ]
     },
     "execution_count": 22,
     "metadata": {},
     "output_type": "execute_result"
    }
   ],
   "source": [
    "np.argmax(predictions[0])"
   ]
  },
  {
   "cell_type": "code",
   "execution_count": 23,
   "metadata": {
    "execution": {
     "iopub.execute_input": "2021-03-22T06:20:30.991565Z",
     "iopub.status.busy": "2021-03-22T06:20:30.990965Z",
     "iopub.status.idle": "2021-03-22T06:20:30.996886Z",
     "shell.execute_reply": "2021-03-22T06:20:30.996418Z"
    },
    "papermill": {
     "duration": 0.147102,
     "end_time": "2021-03-22T06:20:30.997037",
     "exception": false,
     "start_time": "2021-03-22T06:20:30.849935",
     "status": "completed"
    },
    "tags": []
   },
   "outputs": [
    {
     "data": {
      "text/plain": [
       "4"
      ]
     },
     "execution_count": 23,
     "metadata": {},
     "output_type": "execute_result"
    }
   ],
   "source": [
    "test_labels[0]"
   ]
  },
  {
   "cell_type": "code",
   "execution_count": 24,
   "metadata": {
    "execution": {
     "iopub.execute_input": "2021-03-22T06:20:31.275615Z",
     "iopub.status.busy": "2021-03-22T06:20:31.274518Z",
     "iopub.status.idle": "2021-03-22T06:20:31.277419Z",
     "shell.execute_reply": "2021-03-22T06:20:31.277010Z"
    },
    "papermill": {
     "duration": 0.145277,
     "end_time": "2021-03-22T06:20:31.277536",
     "exception": false,
     "start_time": "2021-03-22T06:20:31.132259",
     "status": "completed"
    },
    "tags": []
   },
   "outputs": [],
   "source": [
    "def plot_image(i, predictions_array, ture_labels, images):\n",
    "    predictions_array, true_label, img = predictions_array[i], ture_labels[i],images[i]\n",
    "    plt.grid(False)\n",
    "    plt.xticks([])\n",
    "    plt.yticks([])\n",
    "    \n",
    "    plt.imshow(img[...,0], cmap = plt.cm.binary)\n",
    "    \n",
    "    predicted_label = np.argmax(predictions_array)\n",
    "    if predicted_label == true_label:\n",
    "        color = 'blue'\n",
    "    else:\n",
    "        color = 'red'\n",
    "        \n",
    "    plt.xlabel(\"{} {:2.0f}% ({})\".format(class_name[predicted_label],\n",
    "                                         100*np.max(predictions_array),\n",
    "                                         class_name[true_label]),\n",
    "               color=color)\n",
    "    \n",
    "def plot_value_array(i, predictions_array, true_label):\n",
    "    predictions_array, true_label = predictions_array[i], true_label[i]\n",
    "    plt.grid(False)\n",
    "    plt.xticks([])\n",
    "    plt.yticks([])\n",
    "    thisplot = plt.bar(range(10), predictions_array, color=\"#777777\")\n",
    "    plt.ylim([0, 1]) \n",
    "    predicted_label = np.argmax(predictions_array)\n",
    "  \n",
    "    thisplot[predicted_label].set_color('red')\n",
    "    thisplot[true_label].set_color('blue')"
   ]
  },
  {
   "cell_type": "code",
   "execution_count": 25,
   "metadata": {
    "execution": {
     "iopub.execute_input": "2021-03-22T06:20:31.565300Z",
     "iopub.status.busy": "2021-03-22T06:20:31.563924Z",
     "iopub.status.idle": "2021-03-22T06:20:31.645549Z",
     "shell.execute_reply": "2021-03-22T06:20:31.645960Z"
    },
    "papermill": {
     "duration": 0.235371,
     "end_time": "2021-03-22T06:20:31.646124",
     "exception": false,
     "start_time": "2021-03-22T06:20:31.410753",
     "status": "completed"
    },
    "tags": []
   },
   "outputs": [
    {
     "data": {
      "image/png": "[encoded data removed]",
      "text/plain": [
       "<Figure size 432x216 with 2 Axes>"
      ]
     },
     "metadata": {},
     "output_type": "display_data"
    }
   ],
   "source": [
    "i = 0\n",
    "plt.figure(figsize=(6,3))\n",
    "plt.subplot(1,2,1)\n",
    "plot_image(i, predictions, test_labels, test_images)\n",
    "plt.subplot(1,2,2)\n",
    "plot_value_array(i, predictions, test_labels)"
   ]
  },
  {
   "cell_type": "code",
   "execution_count": 26,
   "metadata": {
    "execution": {
     "iopub.execute_input": "2021-03-22T06:20:31.935672Z",
     "iopub.status.busy": "2021-03-22T06:20:31.930705Z",
     "iopub.status.idle": "2021-03-22T06:20:32.019498Z",
     "shell.execute_reply": "2021-03-22T06:20:32.019908Z"
    },
    "papermill": {
     "duration": 0.235715,
     "end_time": "2021-03-22T06:20:32.020087",
     "exception": false,
     "start_time": "2021-03-22T06:20:31.784372",
     "status": "completed"
    },
    "tags": []
   },
   "outputs": [
    {
     "data": {
      "image/png": "[encoded data removed]",
      "text/plain": [
       "<Figure size 432x216 with 2 Axes>"
      ]
     },
     "metadata": {},
     "output_type": "display_data"
    }
   ],
   "source": [
    "i = 12\n",
    "plt.figure(figsize=(6,3))\n",
    "plt.subplot(1,2,1)\n",
    "plot_image(i, predictions, test_labels, test_images)\n",
    "plt.subplot(1,2,2)\n",
    "plot_value_array(i, predictions, test_labels)"
   ]
  },
  {
   "cell_type": "code",
   "execution_count": 27,
   "metadata": {
    "execution": {
     "iopub.execute_input": "2021-03-22T06:20:32.311722Z",
     "iopub.status.busy": "2021-03-22T06:20:32.310756Z",
     "iopub.status.idle": "2021-03-22T06:20:33.760570Z",
     "shell.execute_reply": "2021-03-22T06:20:33.760121Z"
    },
    "papermill": {
     "duration": 1.604959,
     "end_time": "2021-03-22T06:20:33.760693",
     "exception": false,
     "start_time": "2021-03-22T06:20:32.155734",
     "status": "completed"
    },
    "tags": []
   },
   "outputs": [
    {
     "data": {
      "image/png": "[encoded data removed]",
      "text/plain": [
       "<Figure size 864x720 with 30 Axes>"
      ]
     },
     "metadata": {},
     "output_type": "display_data"
    }
   ],
   "source": [
    "# Plot the first X test images, their predicted label, and the true label\n",
    "# Color correct predictions in blue, incorrect predictions in red\n",
    "num_rows = 5\n",
    "num_cols = 3\n",
    "num_images = num_rows*num_cols\n",
    "plt.figure(figsize=(2*2*num_cols, 2*num_rows))\n",
    "for i in range(num_images):\n",
    "    plt.subplot(num_rows, 2*num_cols, 2*i+1)\n",
    "    plot_image(i, predictions, test_labels, test_images)\n",
    "    plt.subplot(num_rows, 2*num_cols, 2*i+2)\n",
    "    plot_value_array(i, predictions, test_labels)\n"
   ]
  },
  {
   "cell_type": "code",
   "execution_count": 28,
   "metadata": {
    "execution": {
     "iopub.execute_input": "2021-03-22T06:20:34.042807Z",
     "iopub.status.busy": "2021-03-22T06:20:34.042266Z",
     "iopub.status.idle": "2021-03-22T06:20:34.046851Z",
     "shell.execute_reply": "2021-03-22T06:20:34.047408Z"
    },
    "papermill": {
     "duration": 0.147245,
     "end_time": "2021-03-22T06:20:34.047589",
     "exception": false,
     "start_time": "2021-03-22T06:20:33.900344",
     "status": "completed"
    },
    "tags": []
   },
   "outputs": [
    {
     "name": "stdout",
     "output_type": "stream",
     "text": [
      "(28, 28, 1)\n"
     ]
    }
   ],
   "source": [
    "# Grab an image from the test dataset\n",
    "img = test_images[0]\n",
    "\n",
    "print(img.shape)"
   ]
  },
  {
   "cell_type": "code",
   "execution_count": 29,
   "metadata": {
    "execution": {
     "iopub.execute_input": "2021-03-22T06:20:34.329391Z",
     "iopub.status.busy": "2021-03-22T06:20:34.328217Z",
     "iopub.status.idle": "2021-03-22T06:20:34.332526Z",
     "shell.execute_reply": "2021-03-22T06:20:34.331819Z"
    },
    "papermill": {
     "duration": 0.14795,
     "end_time": "2021-03-22T06:20:34.332702",
     "exception": false,
     "start_time": "2021-03-22T06:20:34.184752",
     "status": "completed"
    },
    "tags": []
   },
   "outputs": [
    {
     "name": "stdout",
     "output_type": "stream",
     "text": [
      "(1, 28, 28, 1)\n"
     ]
    }
   ],
   "source": [
    "# Add the image to a batch where it's the only member.\n",
    "img = np.array([img])\n",
    "\n",
    "print(img.shape)"
   ]
  },
  {
   "cell_type": "code",
   "execution_count": 30,
   "metadata": {
    "execution": {
     "iopub.execute_input": "2021-03-22T06:20:34.616853Z",
     "iopub.status.busy": "2021-03-22T06:20:34.616036Z",
     "iopub.status.idle": "2021-03-22T06:20:34.680328Z",
     "shell.execute_reply": "2021-03-22T06:20:34.679206Z"
    },
    "papermill": {
     "duration": 0.209052,
     "end_time": "2021-03-22T06:20:34.680520",
     "exception": false,
     "start_time": "2021-03-22T06:20:34.471468",
     "status": "completed"
    },
    "tags": []
   },
   "outputs": [
    {
     "name": "stdout",
     "output_type": "stream",
     "text": [
      "[[7.5416715e-06 1.3111556e-05 6.2188548e-03 7.0012129e-07 9.6860135e-01\n",
      "  1.2534616e-10 2.5156057e-02 3.5815709e-10 2.2680622e-06 1.0922077e-09]]\n"
     ]
    }
   ],
   "source": [
    "predictions_single = model.predict(img)\n",
    "\n",
    "print(predictions_single)"
   ]
  },
  {
   "cell_type": "code",
   "execution_count": 31,
   "metadata": {
    "execution": {
     "iopub.execute_input": "2021-03-22T06:20:34.982133Z",
     "iopub.status.busy": "2021-03-22T06:20:34.979744Z",
     "iopub.status.idle": "2021-03-22T06:20:35.072267Z",
     "shell.execute_reply": "2021-03-22T06:20:35.071740Z"
    },
    "papermill": {
     "duration": 0.250042,
     "end_time": "2021-03-22T06:20:35.072408",
     "exception": false,
     "start_time": "2021-03-22T06:20:34.822366",
     "status": "completed"
    },
    "tags": []
   },
   "outputs": [
    {
     "data": {
      "image/png": "[encoded data removed]",
      "text/plain": [
       "<Figure size 432x288 with 1 Axes>"
      ]
     },
     "metadata": {
      "needs_background": "light"
     },
     "output_type": "display_data"
    }
   ],
   "source": [
    "plot_value_array(0, predictions_single, test_labels)\n",
    "_ = plt.xticks(range(10), class_name, rotation=45)"
   ]
  },
  {
   "cell_type": "code",
   "execution_count": 32,
   "metadata": {
    "execution": {
     "iopub.execute_input": "2021-03-22T06:20:35.354840Z",
     "iopub.status.busy": "2021-03-22T06:20:35.354294Z",
     "iopub.status.idle": "2021-03-22T06:20:35.360257Z",
     "shell.execute_reply": "2021-03-22T06:20:35.359821Z"
    },
    "papermill": {
     "duration": 0.149456,
     "end_time": "2021-03-22T06:20:35.360371",
     "exception": false,
     "start_time": "2021-03-22T06:20:35.210915",
     "status": "completed"
    },
    "tags": []
   },
   "outputs": [
    {
     "data": {
      "text/plain": [
       "4"
      ]
     },
     "execution_count": 32,
     "metadata": {},
     "output_type": "execute_result"
    }
   ],
   "source": [
    "np.argmax(predictions_single[0])"
   ]
  },
  {
   "cell_type": "code",
   "execution_count": null,
   "metadata": {
    "papermill": {
     "duration": 0.243947,
     "end_time": "2021-03-22T06:20:35.769434",
     "exception": false,
     "start_time": "2021-03-22T06:20:35.525487",
     "status": "completed"
    },
    "tags": []
   },
   "outputs": [],
   "source": []
  }
 ],
 "metadata": {
  "kernelspec": {
   "display_name": "Python 3",
   "language": "python",
   "name": "python3"
  },
  "language_info": {
   "codemirror_mode": {
    "name": "ipython",
    "version": 3
   },
   "file_extension": ".py",
   "mimetype": "text/x-python",
   "name": "python",
   "nbconvert_exporter": "python",
   "pygments_lexer": "ipython3",
   "version": "3.7.9"
  },
  "papermill": {
   "default_parameters": {},
   "duration": 89.777137,
   "end_time": "2021-03-22T06:20:38.733297",
   "environment_variables": {},
   "exception": null,
   "input_path": "__notebook__.ipynb",
   "output_path": "__notebook__.ipynb",
   "parameters": {},
   "start_time": "2021-03-22T06:19:08.956160",
   "version": "2.2.2"
  }
 },
 "nbformat": 4,
 "nbformat_minor": 4
}
